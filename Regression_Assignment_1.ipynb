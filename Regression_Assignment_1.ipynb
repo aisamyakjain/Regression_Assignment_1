{
 "cells": [
  {
   "cell_type": "markdown",
   "id": "7d8437ea-da76-46d1-8ea8-ef3945eee8ad",
   "metadata": {},
   "source": [
    "Q1. Explain the difference between simple linear regression and multiple linear regression. Provide an\n",
    "example of each.\n",
    "\n",
    "Anwer:  Simple linear regression involves predicting a dependent variable based on a single independent variable, while multiple linear regression includes multiple independent variables. For example, predicting house prices based on square footage alone is simple linear regression, whereas considering square footage, number of bedrooms, and location is multiple linear regression."
   ]
  },
  {
   "cell_type": "markdown",
   "id": "c36bf621-850e-42be-97f2-6a422be0a17b",
   "metadata": {},
   "source": [
    "Q2. Discuss the assumptions of linear regression. How can you check whether these assumptions hold in\n",
    "a given dataset?\n",
    "\n",
    "Answer:    The assumptions of linear regression include linearity, independence, homoscedasticity, normality of residuals, and absence of multicollinearity. You can check these assumptions by analyzing residual plots, conducting hypothesis tests, and examining diagnostic tests like the Durbin-Watson test."
   ]
  },
  {
   "cell_type": "markdown",
   "id": "9af47009-05c7-469b-900b-55b252a5b77f",
   "metadata": {},
   "source": [
    "Q3. How do you interpret the slope and intercept in a linear regression model? Provide an example using\n",
    "a real-world scenario.\n",
    "\n",
    "\n",
    "Answer:  The slope in a linear regression model represents the change in the dependent variable for a unit increase in the independent variable, while the intercept represents the value of the dependent variable when the independent variable is zero. For example, in a model predicting exam scores based on study hours, the slope indicates the increase in the exam score for each additional hour of study, and the intercept represents the expected exam score when no studying has occurred."
   ]
  },
  {
   "cell_type": "markdown",
   "id": "8d66920b-16ba-4e24-8ede-fb252b3ca298",
   "metadata": {},
   "source": [
    "Q4. Explain the concept of gradient descent. How is it used in machine learning?\n",
    "\n",
    "Answer: Gradient descent is an optimization algorithm used in machine learning to iteratively minimize the loss function by adjusting the model parameters in the direction of steepest descent of the gradient, allowing for efficient model training and convergence."
   ]
  },
  {
   "cell_type": "markdown",
   "id": "f125da82-b0fd-4ae2-86ce-278e30e51bfd",
   "metadata": {},
   "source": [
    "Q5. Describe the multiple linear regression model. How does it differ from simple linear regression?\n",
    "\n",
    "Answer:  Multiple linear regression is a statistical model that predicts the relationship between a dependent variable and multiple independent variables. It differs from simple linear regression, which only considers one independent variable. In multiple linear regression, the model assumes a linear relationship between the dependent variable and each independent variable, allowing for the analysis of their individual effects while controlling for the influence of other variables."
   ]
  },
  {
   "cell_type": "markdown",
   "id": "709a6670-c757-4cda-930f-83526cd167c5",
   "metadata": {},
   "source": [
    "Q6. Explain the concept of multicollinearity in multiple linear regression. How can you detect and\n",
    "address this issue?\n",
    "\n",
    "Answer:  Multicollinearity refers to a high correlation between independent variables in a multiple linear regression model. It can cause issues like unstable coefficients and difficulty in interpreting the individual effects of variables. To detect multicollinearity, one can calculate the correlation matrix or variance inflation factor (VIF). To address it, one can remove redundant variables, perform dimensionality reduction, or use regularization techniques like ridge regression or lasso regression."
   ]
  },
  {
   "cell_type": "markdown",
   "id": "b4ef6389-8a45-4a2e-927a-cecd96ecfe6a",
   "metadata": {},
   "source": [
    "Q7. Describe the polynomial regression model. How is it different from linear regression?\n",
    "\n",
    "Answer: Polynomial regression is a nonlinear regression model that can capture complex relationships by including polynomial terms of the independent variables. It differs from linear regression, which assumes a linear relationship between the dependent and independent variables."
   ]
  },
  {
   "cell_type": "markdown",
   "id": "3cd966c9-f613-458c-8aa9-16f56ec73d2d",
   "metadata": {},
   "source": [
    "Q8. What are the advantages and disadvantages of polynomial regression compared to linear\n",
    "regression? In what situations would you prefer to use polynomial regression?\n",
    "\n",
    "Answer:  Advantages of polynomial regression include its ability to model non-linear relationships and capture complex patterns. It can provide a better fit to the data compared to linear regression. However, polynomial regression can be prone to overfitting and may become computationally expensive with higher degree polynomials. It is preferred when the relationship between variables is non-linear or when there is prior knowledge suggesting a polynomial relationship."
   ]
  },
  {
   "cell_type": "code",
   "execution_count": null,
   "id": "f9b88c4f-6249-44e7-b17c-19f39e418ccd",
   "metadata": {},
   "outputs": [],
   "source": []
  }
 ],
 "metadata": {
  "kernelspec": {
   "display_name": "Python 3 (ipykernel)",
   "language": "python",
   "name": "python3"
  },
  "language_info": {
   "codemirror_mode": {
    "name": "ipython",
    "version": 3
   },
   "file_extension": ".py",
   "mimetype": "text/x-python",
   "name": "python",
   "nbconvert_exporter": "python",
   "pygments_lexer": "ipython3",
   "version": "3.10.8"
  }
 },
 "nbformat": 4,
 "nbformat_minor": 5
}
